{
 "cells": [
  {
   "cell_type": "code",
   "execution_count": 1,
   "id": "fa3cb371",
   "metadata": {},
   "outputs": [
    {
     "data": {
      "text/plain": [
       "['mozzarella', 'cinderella', 'salmonella']"
      ]
     },
     "execution_count": 1,
     "metadata": {},
     "output_type": "execute_result"
    }
   ],
   "source": [
    "#create a list called things\n",
    "#with these three elements\n",
    "things_list = [\"mozzarella\", \"cinderella\", \"salmonella\"]\n",
    "things_list"
   ]
  },
  {
   "cell_type": "code",
   "execution_count": 2,
   "id": "0d48faf9",
   "metadata": {},
   "outputs": [
    {
     "name": "stdout",
     "output_type": "stream",
     "text": [
      "['mozzarella', 'Cinderella', 'salmonella', 'CHEESY']\n"
     ]
    }
   ],
   "source": [
    "#add cheesy element from things\n",
    "#capitialize cheesy in all caps\n",
    "#print list\n",
    "things_list = [\"mozzarella\", \"Cinderella\", \"salmonella\", \"CHEESY\"]\n",
    "print(things_list)"
   ]
  },
  {
   "cell_type": "code",
   "execution_count": 3,
   "id": "e5571357",
   "metadata": {},
   "outputs": [
    {
     "name": "stdout",
     "output_type": "stream",
     "text": [
      "['mozzarella', 'Cinderella', 'CHEESY']\n",
      "['collect Nobel Prize']\n"
     ]
    }
   ],
   "source": [
    "#delete disease element from things\n",
    "#collect nobel prize\n",
    "#print list\n",
    "things_list = [\"mozzarella\", \"Cinderella\", \"CHEESY\", \"salmonella\"]\n",
    "things_list.pop()\n",
    "print(things_list)\n",
    "things_list = [('collect Nobel Prize')]\n",
    "print(things_list)"
   ]
  },
  {
   "cell_type": "code",
   "execution_count": 4,
   "id": "7d49cca9",
   "metadata": {},
   "outputs": [],
   "source": [
    "#define a function called good()\n",
    "#return the list\n",
    "def good(Henry, Ron, Hermione):\n",
    "    return{'Henry': Henry, 'Ron': Ron, 'Hermione': Hermione}"
   ]
  },
  {
   "cell_type": "code",
   "execution_count": 21,
   "id": "27d598d5",
   "metadata": {},
   "outputs": [
    {
     "name": "stdout",
     "output_type": "stream",
     "text": [
      "9\n",
      "9\n",
      "9\n",
      "9\n",
      "9\n",
      "9\n",
      "9\n",
      "9\n",
      "9\n",
      "9\n"
     ]
    }
   ],
   "source": [
    "#define generator function\n",
    "#called get_odds()\n",
    "#returns odd numbers from range (10)\n",
    "#use for loop to find\n",
    "#print third value\n",
    "\n",
    "def get_odds(number):\n",
    "    number = odds\n",
    "    return number\n",
    "for number in range(10):\n",
    "    print(odd_number)\n"
   ]
  },
  {
   "cell_type": "code",
   "execution_count": null,
   "id": "5dffb014",
   "metadata": {},
   "outputs": [],
   "source": []
  }
 ],
 "metadata": {
  "kernelspec": {
   "display_name": "Python 3 (ipykernel)",
   "language": "python",
   "name": "python3"
  },
  "language_info": {
   "codemirror_mode": {
    "name": "ipython",
    "version": 3
   },
   "file_extension": ".py",
   "mimetype": "text/x-python",
   "name": "python",
   "nbconvert_exporter": "python",
   "pygments_lexer": "ipython3",
   "version": "3.9.12"
  }
 },
 "nbformat": 4,
 "nbformat_minor": 5
}
