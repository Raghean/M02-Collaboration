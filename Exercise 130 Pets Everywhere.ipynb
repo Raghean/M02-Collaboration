{
 "cells": [
  {
   "cell_type": "code",
   "execution_count": 6,
   "id": "68ef8087",
   "metadata": {},
   "outputs": [
    {
     "name": "stdout",
     "output_type": "stream",
     "text": [
      " Lola  is just walking around\n",
      " Pepe  is just walking around\n",
      " Tom  is just walking around\n"
     ]
    }
   ],
   "source": [
    "class Pets():\n",
    "    animals = []\n",
    "    def __init__(self, animals):\n",
    "        self.animals = animals\n",
    "        \n",
    "    def walk(self):\n",
    "        for animals in self.animals:\n",
    "            print(animals.walk())\n",
    "        \n",
    "class Cat():\n",
    "    is_lazy = True\n",
    "    \n",
    "    def __init__(self, name, age):\n",
    "        self.name = name\n",
    "        self.age = age\n",
    "        \n",
    "    def walk(self):\n",
    "        return f' {self.name}  is just walking around'\n",
    "    \n",
    "class Lola(Cat):\n",
    "    def sing(self, sounds):\n",
    "        return f'{sounds}'\n",
    "    \n",
    "class Pepe(Cat):\n",
    "    def sing(self, sounds):\n",
    "        return f' {sounds}'\n",
    "    \n",
    "class Tom(Cat):                                  #add one more cat\n",
    "    def sing(self, sounds):\n",
    "        return f'{sounds}'\n",
    "    \n",
    "my_cats = [Lola('Lola',  4), Pepe('Pepe',  2), Tom('Tom',  1)]      # add a list of cats from above\n",
    "\n",
    "my_pets = Pets(my_cats)       #instantiate Pet class with rest of pets\n",
    "\n",
    "my_pets.walk()              #output\n",
    "    \n",
    "    \n",
    "        \n",
    "    \n",
    "        "
   ]
  },
  {
   "cell_type": "code",
   "execution_count": null,
   "id": "1c701644",
   "metadata": {},
   "outputs": [],
   "source": []
  }
 ],
 "metadata": {
  "kernelspec": {
   "display_name": "Python 3 (ipykernel)",
   "language": "python",
   "name": "python3"
  },
  "language_info": {
   "codemirror_mode": {
    "name": "ipython",
    "version": 3
   },
   "file_extension": ".py",
   "mimetype": "text/x-python",
   "name": "python",
   "nbconvert_exporter": "python",
   "pygments_lexer": "ipython3",
   "version": "3.9.12"
  }
 },
 "nbformat": 4,
 "nbformat_minor": 5
}
