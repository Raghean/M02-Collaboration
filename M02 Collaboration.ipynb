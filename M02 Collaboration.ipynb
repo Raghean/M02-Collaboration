{
 "cells": [
  {
   "cell_type": "code",
   "execution_count": 52,
   "id": "800e719a",
   "metadata": {},
   "outputs": [
    {
     "name": "stdout",
     "output_type": "stream",
     "text": [
      "Enter your first name l\n",
      "Enter your last name  k\n",
      "Give me your gpa 3.5\n",
      "You have the made The Dean List\n",
      "You have made The Honor Roll\n"
     ]
    }
   ],
   "source": [
    "#Raghean Grice\n",
    "#Student names and the students who qualifies for the Dean List or Honor Roll\n",
    "#this program that will accept student names and GPAs and test if the student qualifies for either the Dean's List or the Honor Roll.\n",
    "name = 'first'\n",
    "name = 'last'\n",
    "number_gpa = 3.5\n",
    "name = input(\"Enter your first name \")\n",
    "name = input(\"Enter your last name  \")\n",
    "if 'last' == 'ZZZ':\n",
    "    print(\"Type q to quit\" )\n",
    "if name == \"q\":\n",
    "    print('q')\n",
    "name = float(input(\"Give me your gpa \"))\n",
    "if number_gpa >= 3.5:\n",
    "    print(\"You have the made The Dean List\")\n",
    "else:\n",
    "     print(\"You did not make The Dean List\")\n",
    "if number_gpa >= 3.25:\n",
    "    print(\"You have made The Honor Roll\")\n",
    "else:\n",
    "    print (\"You did not make The Honor Roll\")"
   ]
  }
 ],
 "metadata": {
  "kernelspec": {
   "display_name": "Python 3 (ipykernel)",
   "language": "python",
   "name": "python3"
  },
  "language_info": {
   "codemirror_mode": {
    "name": "ipython",
    "version": 3
   },
   "file_extension": ".py",
   "mimetype": "text/x-python",
   "name": "python",
   "nbconvert_exporter": "python",
   "pygments_lexer": "ipython3",
   "version": "3.9.12"
  }
 },
 "nbformat": 4,
 "nbformat_minor": 5
}
